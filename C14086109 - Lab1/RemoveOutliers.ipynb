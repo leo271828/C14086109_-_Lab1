{
 "cells": [
  {
   "cell_type": "code",
   "execution_count": 1,
   "id": "49c470ca-5ab0-47f4-bf10-1f20684e8fdd",
   "metadata": {},
   "outputs": [
    {
     "name": "stdin",
     "output_type": "stream",
     "text": [
      "Enter the number of smallest and largest values to remove:  2\n",
      "Enter a value (q or Q to quit):  1001\n",
      "Enter a value (q or Q to quit):  2001\n",
      "Enter a value (q or Q to quit):  1\n",
      "Enter a value (q or Q to quit):  2\n",
      "Enter a value (q or Q to quit):  -1001\n",
      "Enter a value (q or Q to quit):  -20\n",
      "Enter a value (q or Q to quit):  5\n",
      "Enter a value (q or Q to quit):  4\n",
      "Enter a value (q or Q to quit):  3\n",
      "Enter a value (q or Q to quit):  1\n",
      "Enter a value (q or Q to quit):  2\n",
      "Enter a value (q or Q to quit):  3\n",
      "Enter a value (q or Q to quit):  q\n"
     ]
    },
    {
     "name": "stdout",
     "output_type": "stream",
     "text": [
      "The original data:  [1001, 2001, 1, 2, -1001, -20, 5, 4, 3, 1, 2, 3]\n",
      "The data with the outliers removed:  [1, 1, 2, 2, 3, 3, 4, 5]\n",
      "The outliers:  [-1001, -20, 1001, 2001]\n"
     ]
    }
   ],
   "source": [
    "n = int(input(\"Enter the number of smallest and largest values to remove: \"))\n",
    "data = []\n",
    "\n",
    "# Enter the data\n",
    "while(1):\n",
    "    value = input('Enter a value (q or Q to quit): ')\n",
    "    if (value == 'q') or (value == 'Q'):\n",
    "        break\n",
    "    else: \n",
    "#         Change the format of your data from string to integer\n",
    "        value = int(value)\n",
    "    data.append(value)\n",
    "print(\"The original data: \", data)\n",
    "    \n",
    "# If the number of the outlier you want to remove is greater than the number of data\n",
    "# It doesn't make sence\n",
    "if n*2 > len(data):\n",
    "    print('ERROR, number of data you want to remove should < number of data')\n",
    "else:\n",
    "    data.sort()\n",
    "    \n",
    "#     Remove outliers at the front and back ends of the data\n",
    "    outlier = []\n",
    "    outlier += (data[:n] + data[-n:])\n",
    "    del data[:n]\n",
    "    del data[-n:]\n",
    "    print('The data with the outliers removed: ', data)\n",
    "    print('The outliers: ', outlier)\n",
    "# data = [1001, 2001, 1, 2, -1001, -20, 5, 4, 3, 1, 2, 3]"
   ]
  },
  {
   "cell_type": "code",
   "execution_count": null,
   "id": "86a90125-e18e-4541-867d-27ef34615f58",
   "metadata": {},
   "outputs": [],
   "source": []
  }
 ],
 "metadata": {
  "kernelspec": {
   "display_name": "Python 3",
   "language": "python",
   "name": "python3"
  },
  "language_info": {
   "codemirror_mode": {
    "name": "ipython",
    "version": 3
   },
   "file_extension": ".py",
   "mimetype": "text/x-python",
   "name": "python",
   "nbconvert_exporter": "python",
   "pygments_lexer": "ipython3",
   "version": "3.8.8"
  }
 },
 "nbformat": 4,
 "nbformat_minor": 5
}
