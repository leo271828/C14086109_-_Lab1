{
 "cells": [
  {
   "cell_type": "code",
   "execution_count": 12,
   "id": "8fa4de79-8449-4cb5-a683-c7ca0bb10a6d",
   "metadata": {},
   "outputs": [],
   "source": [
    "def reverse(num):\n",
    "    result = ''\n",
    "    \n",
    "    while( num>0 ):\n",
    "        \n",
    "#         Take the remainder of this number to get its units digit\n",
    "        result += str(num%10)\n",
    "    \n",
    "#         Divide num by 10 to remove the units digit\n",
    "#         In Python, num // 10 can get the quotient of num\n",
    "        num = num // 10\n",
    "    print(result)"
   ]
  },
  {
   "cell_type": "code",
   "execution_count": null,
   "id": "ce6d0f7e-1ef7-4353-b77c-10efe066304b",
   "metadata": {},
   "outputs": [],
   "source": [
    "num = int(input('Enter an integer:'))\n",
    "reverse(num)"
   ]
  }
 ],
 "metadata": {
  "kernelspec": {
   "display_name": "Python 3",
   "language": "python",
   "name": "python3"
  },
  "language_info": {
   "codemirror_mode": {
    "name": "ipython",
    "version": 3
   },
   "file_extension": ".py",
   "mimetype": "text/x-python",
   "name": "python",
   "nbconvert_exporter": "python",
   "pygments_lexer": "ipython3",
   "version": "3.8.8"
  }
 },
 "nbformat": 4,
 "nbformat_minor": 5
}
