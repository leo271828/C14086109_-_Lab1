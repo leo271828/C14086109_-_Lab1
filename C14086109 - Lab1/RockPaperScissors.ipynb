{
 "cells": [
  {
   "cell_type": "code",
   "execution_count": null,
   "id": "c3642a03-a70b-4c56-9268-7a77a325139e",
   "metadata": {},
   "outputs": [],
   "source": [
    "# lab 1-1\n",
    "import random\n",
    "tie, lose = 0, 0\n",
    "print('Welcome to ROCK, PAPER, SCISSORS game!')\n",
    "\n",
    "# The game will continue untill you win\n",
    "while(1):\n",
    "    player = input('Enter your move: (r)ock (p)aper (s)cissors ')\n",
    "    if player == 'r':\n",
    "        print('ROCK versus...')\n",
    "    elif player == 'p':\n",
    "        print('PAPER versus...')\n",
    "    elif player == 's':\n",
    "        print('SCISSORS versus...')\n",
    "    else :\n",
    "#         If the data is not r, p, s\n",
    "        print('ERROR')\n",
    "\n",
    "#     Computer's round\n",
    "#     The numbers implies :\n",
    "#         1 = ROCK\n",
    "#         2 = PAPER\n",
    "#         3 = SCISSORS\n",
    "    computer = random.randint(1, 3)\n",
    "    if computer == 1:\n",
    "        computer = 'r'\n",
    "        print('ROCK')\n",
    "    elif computer == 2:\n",
    "        computer = 'p'\n",
    "        print('PAPER')\n",
    "    else:\n",
    "        computer = 's'\n",
    "        print('SCISSORS')\n",
    "\n",
    "# Determine you win or lose\n",
    "    if player == computer:\n",
    "        print('It is a tie!')\n",
    "        tie += 1\n",
    "    elif (player == 'r') and (computer == 'p'):\n",
    "        print('You lose!')\n",
    "        lose += 1\n",
    "    elif (player == 'p') and (computer == 's'):\n",
    "        print('You lose!')\n",
    "        lose += 1\n",
    "    elif (player == 's') and (computer == 'r'):\n",
    "        print('You lose!')\n",
    "        lose += 1\n",
    "    else:\n",
    "        print('You win!')\n",
    "        break\n",
    "print('You have ', tie, ' ties and ', lose, ' losses before your first win')"
   ]
  }
 ],
 "metadata": {
  "kernelspec": {
   "display_name": "Python 3",
   "language": "python",
   "name": "python3"
  },
  "language_info": {
   "codemirror_mode": {
    "name": "ipython",
    "version": 3
   },
   "file_extension": ".py",
   "mimetype": "text/x-python",
   "name": "python",
   "nbconvert_exporter": "python",
   "pygments_lexer": "ipython3",
   "version": "3.8.8"
  }
 },
 "nbformat": 4,
 "nbformat_minor": 5
}
